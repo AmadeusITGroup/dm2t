{
  "cells": [
    {
      "cell_type": "markdown",
      "metadata": {
        "nteract": {
          "transient": {
            "deleting": false
          }
        }
      },
      "source": [
        "<h1>Data mesh 2 Data mesh copy</h1>\n",
        "\n",
        "This notebook is used to copy data from a data mesh container to another data mesh container.\n",
        "\n",
        "It relies on [az copy](https://docs.azure.cn/en-us/storage/common/storage-ref-azcopy-copy) tools already installed on the VMs. It is wrapped by the script ```azcopy-script.sh```.\n",
        "\n",
        "The best performances (2 Gbits/s) are achieved using a 16 cores compute, knowing that it is not memory intensive.\n"
      ]
    },
    {
      "cell_type": "markdown",
      "metadata": {
        "nteract": {
          "transient": {
            "deleting": false
          }
        }
      },
      "source": [
        "Define useful class\n",
        "---"
      ]
    },
    {
      "cell_type": "code",
      "execution_count": null,
      "metadata": {
        "gather": {
          "logged": 1739865370358
        }
      },
      "outputs": [],
      "source": [
        "class ContainerCopyParam:\n",
        "    src_container: str\n",
        "    dst_container: str\n",
        "    src_path: str\n",
        "    dst_path: str | None\n",
        "    src_storage_account: str | None\n",
        "    dst_storage_account: str | None\n",
        "\n",
        "    def __init__(self, src_container: str, dst_container: str, src_path: str, dst_path: str= None, src_storage_account: str = None, dst_storage_account: str = None):\n",
        "       self.src_container = src_container\n",
        "       self.dst_container = dst_container\n",
        "       self.src_path = src_path\n",
        "       self.dst_path = dst_path\n",
        "       self.src_storage_account = src_storage_account\n",
        "       self.dst_storage_account = dst_storage_account\n",
        "\n",
        "    def get_dst_path(self)-> str :\n",
        "        if self.dst_path is None:\n",
        "            return self.src_path\n",
        "        else:\n",
        "            return self.dst_path\n",
        "\n",
        "    def __repr__(self):\n",
        "        return f'ContainerCopyParam({self.src_container}, {self.dst_container}, {self.src_path}, {self.dst_path}, {self.src_storage_account}, {self.dst_storage_account})'\n"
      ]
    },
    {
      "cell_type": "markdown",
      "metadata": {
        "nteract": {
          "transient": {
            "deleting": false
          }
        }
      },
      "source": [
        "Define parameters\n",
        "---"
      ]
    },
    {
      "cell_type": "code",
      "execution_count": null,
      "metadata": {
        "gather": {
          "logged": 1739865409386
        },
        "jupyter": {
          "outputs_hidden": false,
          "source_hidden": false
        },
        "nteract": {
          "transient": {
            "deleting": false
          }
        }
      },
      "outputs": [],
      "source": [
        "log_level = \"ERROR\"\n",
        "\n",
        "src_storage_account = \"<default-source-account>\"\n",
        "dst_storage_account = \"<default-destination-account>\"\n",
        "azcopy_script_path = \"<absolute-path-to-the-directory-container-azcopy-script>\"\n",
        "\n",
        "\n",
        "containers_to_copy = [\n",
        "    ContainerCopyParam(src_container= \"<source-container>\", dst_container= \"<destination-container>\", src_path= \"<source-path>\", dst_path= \"<destination-path>\"),\n",
        "    ContainerCopyParam(src_storage_account= \"<source-account>\", dst_storage_account= \"<destination-account>\", src_container= f\"<another-source-container>\", dst_container= \"<another-destination-container>\", src_path= \"<source-path>\", dst_path= \"<destination-path>\"),\n",
        "]\n",
        "\n",
        "\n",
        "print(containers_to_copy)"
      ]
    },
    {
      "cell_type": "markdown",
      "metadata": {
        "nteract": {
          "transient": {
            "deleting": false
          }
        }
      },
      "source": [
        "Launch container copy\n",
        "---"
      ]
    },
    {
      "cell_type": "code",
      "execution_count": null,
      "metadata": {
        "collapsed": true,
        "gather": {
          "logged": 1739865412451
        },
        "jupyter": {
          "outputs_hidden": false,
          "source_hidden": false
        },
        "nteract": {
          "transient": {
            "deleting": false
          }
        }
      },
      "outputs": [],
      "source": [
        "import subprocess\n",
        "\n",
        "concurrency_value = 4000\n",
        "\n",
        "\n",
        "for container in containers_to_copy:\n",
        "    print(\"\")\n",
        "    print(\"-------------------------------------------------------------------------------------------\")\n",
        "    print(f\"transfer: {container.src_container}\")\n",
        "\n",
        "    # Start the subprocess\n",
        "    src_storage_account_to_use = container.src_storage_account or src_storage_account\n",
        "    dst_storage_account_to_use = container.dst_storage_account or dst_storage_account\n",
        "\n",
        "    parameters = [\"--src-container\",  container.src_container, \"--dst-container\",  container.dst_container, \"--src-path\", container.src_path, \"--dst-path\", container.get_dst_path(), \"--src-storage-account\", src_storage_account_to_use, \"--dst-storage-account\", dst_storage_account_to_use, \"--log-level\", log_level,\"--concurrency-value\", str(concurrency_value)]\n",
        "    process = subprocess.Popen([f\"{azcopy_script_path}/azcopy-script.sh\"] + parameters)\n",
        "\n",
        "    # Get the PID\n",
        "    pid = process.pid\n",
        "    print(f\"Process ID: {pid}\")\n",
        "\n",
        "    # Wait for the process to complete\n",
        "    process.wait()\n",
        "\n",
        "    # Get the status code\n",
        "    status_code = process.returncode\n",
        "    print(f\"Status code: {status_code}\")\n",
        "\n",
        "    if status_code != 0:\n",
        "        raise ValueError(f\"Transfer of {container.src_container} failed, see logs for details\")\n"
      ]
    }
  ],
  "metadata": {
    "kernel_info": {
      "name": "python310-sdkv2"
    },
    "kernelspec": {
      "display_name": "Python 3.10 - SDK v2",
      "language": "python",
      "name": "python310-sdkv2"
    },
    "language_info": {
      "codemirror_mode": {
        "name": "ipython",
        "version": 3
      },
      "file_extension": ".py",
      "mimetype": "text/x-python",
      "name": "python",
      "nbconvert_exporter": "python",
      "pygments_lexer": "ipython3",
      "version": "3.10.14"
    },
    "microsoft": {
      "host": {
        "AzureML": {
          "notebookHasBeenCompleted": true
        }
      },
      "ms_spell_check": {
        "ms_spell_check_language": "en"
      }
    },
    "nteract": {
      "version": "nteract-front-end@1.0.0"
    }
  },
  "nbformat": 4,
  "nbformat_minor": 2
}